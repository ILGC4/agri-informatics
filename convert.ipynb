{
 "cells": [
  {
   "cell_type": "markdown",
   "id": "4fd29b0c",
   "metadata": {},
   "source": [
    "# Convert CSV to GeoJSON\n",
    "This notebook demonstrates how to convert a CSV file containing geographical data into a GeoJSON format."
   ]
  },
  {
   "cell_type": "code",
   "execution_count": 10,
   "id": "c3b21251",
   "metadata": {},
   "outputs": [],
   "source": [
    "# Import Required Libraries\n",
    "import pandas as pd\n",
    "import json"
   ]
  },
  {
   "cell_type": "code",
   "execution_count": 11,
   "id": "90f839cb",
   "metadata": {},
   "outputs": [
    {
     "name": "stdout",
     "output_type": "stream",
     "text": [
      "Columns in the CSV file:\n",
      "Div_Name\n",
      "Vill_Cd\n",
      "Vill_Name\n",
      "Vill_Code\n",
      "Suervisor Name\n",
      "Farm Code\n",
      "Farmer_Name\n",
      "Father_Name\n",
      "Plot No\n",
      "Gashti No.\n",
      "Survey Date\n",
      "Area\n",
      "Shar\n",
      "Varieties\n",
      "Crop Type\n",
      "East\n",
      "West\n",
      "North\n",
      "South\n",
      "Lat1\n",
      "Long1\n",
      "Lat2\n",
      "Long2\n",
      "Lat3\n",
      "Long3\n",
      "Lat4\n",
      "Long4\n",
      "WKT\n"
     ]
    }
   ],
   "source": [
    "# Load CSV File\n",
    "csv_file = 'Mill Gate Survey 2024-25_cleaned.csv'\n",
    "data = pd.read_csv(csv_file)\n",
    "columns = data.columns.tolist()\n",
    "print(\"Columns in the CSV file:\")\n",
    "for col in columns:\n",
    "    print(col)"
   ]
  },
  {
   "cell_type": "code",
   "execution_count": 12,
   "id": "93135c1a",
   "metadata": {},
   "outputs": [],
   "source": [
    "# Convert CSV to GeoJSON\n",
    "geojson = {\n",
    "    \"type\": \"FeatureCollection\",\n",
    "    \"name\": \"Mill_Gate_Survey\",\n",
    "    \"crs\": {\n",
    "        \"type\": \"name\",\n",
    "        \"properties\": {\n",
    "            \"name\": \"urn:ogc:def:crs:OGC:1.3:CRS84\"\n",
    "        }\n",
    "    },\n",
    "    \"features\": []\n",
    "}\n",
    "for _, row in data.iterrows():\n",
    "    # Extract coordinates from Lat1, Long1, Lat2, Long2, etc.\n",
    "    coordinates = [\n",
    "        [row['Long1'], row['Lat1']],\n",
    "        [row['Long2'], row['Lat2']],\n",
    "        [row['Long3'], row['Lat3']],\n",
    "        [row['Long4'], row['Lat4']],\n",
    "        [row['Long1'], row['Lat1']]  # Close the polygon\n",
    "    ]\n",
    "    feature = {\n",
    "        \"type\": \"Feature\",\n",
    "        \"properties\": row.drop(['Lat1', 'Long1', 'Lat2', 'Long2', 'Lat3', 'Long3', 'Lat4', 'Long4', 'WKT']).to_dict(),\n",
    "        \"geometry\": {\n",
    "            \"type\": \"Polygon\",\n",
    "            \"coordinates\": [coordinates]\n",
    "        }\n",
    "    }\n",
    "    geojson['features'].append(feature)"
   ]
  },
  {
   "cell_type": "code",
   "execution_count": 13,
   "id": "8d7a4ad2",
   "metadata": {},
   "outputs": [],
   "source": [
    "# Save GeoJSON to File\n",
    "geojson_file = 'Mill_Gate_Survey_2024-25.geojson'\n",
    "with open(geojson_file, 'w') as f:\n",
    "    json.dump(geojson, f, indent=4)"
   ]
  }
 ],
 "metadata": {
  "kernelspec": {
   "display_name": "smurfs",
   "language": "python",
   "name": "python3"
  },
  "language_info": {
   "codemirror_mode": {
    "name": "ipython",
    "version": 3
   },
   "file_extension": ".py",
   "mimetype": "text/x-python",
   "name": "python",
   "nbconvert_exporter": "python",
   "pygments_lexer": "ipython3",
   "version": "3.12.3"
  }
 },
 "nbformat": 4,
 "nbformat_minor": 5
}
